{
  "nbformat": 4,
  "nbformat_minor": 0,
  "metadata": {
    "colab": {
      "provenance": [],
      "authorship_tag": "ABX9TyOhNdGPJuk0nMPvd95gmiMP",
      "include_colab_link": true
    },
    "kernelspec": {
      "name": "python3",
      "display_name": "Python 3"
    },
    "language_info": {
      "name": "python"
    }
  },
  "cells": [
    {
      "cell_type": "markdown",
      "metadata": {
        "id": "view-in-github",
        "colab_type": "text"
      },
      "source": [
        "<a href=\"https://colab.research.google.com/github/satishaddala11/PDS-assignment-2/blob/main/assignment_2_2.ipynb\" target=\"_parent\"><img src=\"https://colab.research.google.com/assets/colab-badge.svg\" alt=\"Open In Colab\"/></a>"
      ]
    },
    {
      "cell_type": "code",
      "execution_count": null,
      "metadata": {
        "id": "UYloMr5Vw62t"
      },
      "outputs": [],
      "source": [
        "import pandas as pd\n",
        "import numpy as np"
      ]
    },
    {
      "cell_type": "code",
      "source": [
        "df = pd.read_csv(\"/content/train.csv\")"
      ],
      "metadata": {
        "id": "pascOVxw3fS0"
      },
      "execution_count": null,
      "outputs": []
    },
    {
      "cell_type": "code",
      "source": [
        "def clean_mileage(mileage):\n",
        "    if pd.isna(mileage): return np.nan\n",
        "    return float(mileage.split()[0])\n",
        "\n",
        "def clean_engine(engine):\n",
        "    if pd.isna(engine): return np.nan\n",
        "    return int(engine.split()[0])\n",
        "\n",
        "def clean_power(power):\n",
        "    if pd.isna(power): return np.nan\n",
        "    return float(power.split()[0])\n",
        "\n",
        "def clean_new_price(price):\n",
        "    if pd.isna(price): return np.nan\n",
        "    value, unit = price.split()\n",
        "    value = float(value.replace(\",\", \"\"))\n",
        "    if unit.lower() == 'cr':\n",
        "        value *= 100  # convert crore to lakh\n",
        "    return value\n",
        "\n",
        "df['Mileage'] = df['Mileage'].apply(clean_mileage)\n",
        "df['Engine'] = df['Engine'].apply(clean_engine)\n",
        "df['Power'] = df['Power'].apply(clean_power)\n",
        "df['New_Price'] = df['New_Price'].apply(clean_new_price)\n",
        "df.to_csv(\"task_b_units_removed.csv\", index=False)\n",
        "# Now all 4 columns are numeric and ready for missing value handling\n",
        "print(df[['Mileage', 'Engine', 'Power', 'New_Price']].info())"
      ],
      "metadata": {
        "colab": {
          "base_uri": "https://localhost:8080/"
        },
        "id": "nCtRzgoD4Tld",
        "outputId": "6878435a-8e4b-46d8-d442-576d4c602860"
      },
      "execution_count": null,
      "outputs": [
        {
          "output_type": "stream",
          "name": "stdout",
          "text": [
            "<class 'pandas.core.frame.DataFrame'>\n",
            "RangeIndex: 5847 entries, 0 to 5846\n",
            "Data columns (total 4 columns):\n",
            " #   Column     Non-Null Count  Dtype  \n",
            "---  ------     --------------  -----  \n",
            " 0   Mileage    5845 non-null   float64\n",
            " 1   Engine     5811 non-null   float64\n",
            " 2   Power      5811 non-null   float64\n",
            " 3   New_Price  815 non-null    float64\n",
            "dtypes: float64(4)\n",
            "memory usage: 182.8 KB\n",
            "None\n"
          ]
        }
      ]
    },
    {
      "cell_type": "code",
      "source": [
        "missing = df.isnull().sum().sort_values(ascending=False)\n",
        "print(\"Missing values:\\n\", missing)\n"
      ],
      "metadata": {
        "colab": {
          "base_uri": "https://localhost:8080/"
        },
        "id": "VAvkUqG94ZeB",
        "outputId": "e642efc5-af4c-4dd6-baa7-1a58489f7831"
      },
      "execution_count": null,
      "outputs": [
        {
          "output_type": "stream",
          "name": "stdout",
          "text": [
            "Missing values:\n",
            " New_Price            5032\n",
            "Seats                  38\n",
            "Power                  36\n",
            "Engine                 36\n",
            "Mileage                 2\n",
            "Unnamed: 0              0\n",
            "Fuel_Type               0\n",
            "Kilometers_Driven       0\n",
            "Year                    0\n",
            "Location                0\n",
            "Name                    0\n",
            "Owner_Type              0\n",
            "Transmission            0\n",
            "Price                   0\n",
            "dtype: int64\n"
          ]
        }
      ]
    },
    {
      "cell_type": "code",
      "source": [
        "df.drop(columns=['New_Price'], inplace=True)\n",
        "\n",
        "# Impute remaining missing values\n",
        "df['Seats'].fillna(df['Seats'].mode()[0], inplace=True)\n",
        "df['Power'].fillna(df['Power'].median(), inplace=True)\n",
        "df['Engine'].fillna(df['Engine'].median(), inplace=True)\n",
        "df['Mileage'].fillna(df['Mileage'].median(), inplace=True)\n",
        "df.to_csv(\"task_a_missing_values.csv\", index=False)"
      ],
      "metadata": {
        "colab": {
          "base_uri": "https://localhost:8080/"
        },
        "id": "MnTLX0hC4e_q",
        "outputId": "9000380d-f964-4c5f-8f43-c86cd4191650"
      },
      "execution_count": null,
      "outputs": [
        {
          "output_type": "stream",
          "name": "stderr",
          "text": [
            "<ipython-input-8-7fe28d5cf875>:4: FutureWarning: A value is trying to be set on a copy of a DataFrame or Series through chained assignment using an inplace method.\n",
            "The behavior will change in pandas 3.0. This inplace method will never work because the intermediate object on which we are setting values always behaves as a copy.\n",
            "\n",
            "For example, when doing 'df[col].method(value, inplace=True)', try using 'df.method({col: value}, inplace=True)' or df[col] = df[col].method(value) instead, to perform the operation inplace on the original object.\n",
            "\n",
            "\n",
            "  df['Seats'].fillna(df['Seats'].mode()[0], inplace=True)\n",
            "<ipython-input-8-7fe28d5cf875>:5: FutureWarning: A value is trying to be set on a copy of a DataFrame or Series through chained assignment using an inplace method.\n",
            "The behavior will change in pandas 3.0. This inplace method will never work because the intermediate object on which we are setting values always behaves as a copy.\n",
            "\n",
            "For example, when doing 'df[col].method(value, inplace=True)', try using 'df.method({col: value}, inplace=True)' or df[col] = df[col].method(value) instead, to perform the operation inplace on the original object.\n",
            "\n",
            "\n",
            "  df['Power'].fillna(df['Power'].median(), inplace=True)\n",
            "<ipython-input-8-7fe28d5cf875>:6: FutureWarning: A value is trying to be set on a copy of a DataFrame or Series through chained assignment using an inplace method.\n",
            "The behavior will change in pandas 3.0. This inplace method will never work because the intermediate object on which we are setting values always behaves as a copy.\n",
            "\n",
            "For example, when doing 'df[col].method(value, inplace=True)', try using 'df.method({col: value}, inplace=True)' or df[col] = df[col].method(value) instead, to perform the operation inplace on the original object.\n",
            "\n",
            "\n",
            "  df['Engine'].fillna(df['Engine'].median(), inplace=True)\n",
            "<ipython-input-8-7fe28d5cf875>:7: FutureWarning: A value is trying to be set on a copy of a DataFrame or Series through chained assignment using an inplace method.\n",
            "The behavior will change in pandas 3.0. This inplace method will never work because the intermediate object on which we are setting values always behaves as a copy.\n",
            "\n",
            "For example, when doing 'df[col].method(value, inplace=True)', try using 'df.method({col: value}, inplace=True)' or df[col] = df[col].method(value) instead, to perform the operation inplace on the original object.\n",
            "\n",
            "\n",
            "  df['Mileage'].fillna(df['Mileage'].median(), inplace=True)\n"
          ]
        }
      ]
    },
    {
      "cell_type": "code",
      "source": [
        "# Check for any remaining missing values after imputation\n",
        "missing_values_after = df.isnull().sum()\n",
        "\n",
        "# Print the result\n",
        "print(\"Missing values after handling:\")\n",
        "print(missing_values_after)"
      ],
      "metadata": {
        "colab": {
          "base_uri": "https://localhost:8080/"
        },
        "id": "mR3QtPTV4gWH",
        "outputId": "4728b919-24a8-40eb-91ed-d86ea84358d9"
      },
      "execution_count": null,
      "outputs": [
        {
          "output_type": "stream",
          "name": "stdout",
          "text": [
            "Missing values after handling:\n",
            "Unnamed: 0           0\n",
            "Name                 0\n",
            "Location             0\n",
            "Year                 0\n",
            "Kilometers_Driven    0\n",
            "Fuel_Type            0\n",
            "Transmission         0\n",
            "Owner_Type           0\n",
            "Mileage              0\n",
            "Engine               0\n",
            "Power                0\n",
            "Seats                0\n",
            "Price                0\n",
            "dtype: int64\n"
          ]
        }
      ]
    },
    {
      "cell_type": "code",
      "source": [
        "# Identify categorical columns\n",
        "categorical_cols = df.select_dtypes(include=['object']).columns\n",
        "print(f\"Categorical columns: {categorical_cols}\")\n",
        "\n",
        "# For each categorical column, check its unique values\n",
        "for col in categorical_cols:\n",
        "    print(f\"Unique values in '{col}': {df[col].unique()}\")\n"
      ],
      "metadata": {
        "colab": {
          "base_uri": "https://localhost:8080/"
        },
        "id": "Qy4qcDY64mJ_",
        "outputId": "e56ed96d-9dc2-4b5a-857a-6ef27cec35f5"
      },
      "execution_count": null,
      "outputs": [
        {
          "output_type": "stream",
          "name": "stdout",
          "text": [
            "Categorical columns: Index(['Name', 'Location', 'Fuel_Type', 'Transmission', 'Owner_Type'], dtype='object')\n",
            "Unique values in 'Name': ['Hyundai Creta 1.6 CRDi SX Option' 'Honda Jazz V' 'Maruti Ertiga VDI' ...\n",
            " 'Volkswagen Polo IPL II 1.2 Petrol Highline' 'Tata Bolt Revotron XT'\n",
            " 'Mahindra Xylo D4 BSIV']\n",
            "Unique values in 'Location': ['Pune' 'Chennai' 'Coimbatore' 'Jaipur' 'Mumbai' 'Kochi' 'Kolkata' 'Delhi'\n",
            " 'Bangalore' 'Hyderabad' 'Ahmedabad']\n",
            "Unique values in 'Fuel_Type': ['Diesel' 'Petrol' 'Electric']\n",
            "Unique values in 'Transmission': ['Manual' 'Automatic']\n",
            "Unique values in 'Owner_Type': ['First' 'Second' 'Fourth & Above' 'Third']\n"
          ]
        }
      ]
    },
    {
      "cell_type": "code",
      "source": [
        "# One-hot encode the categorical columns\n",
        "df_encoded = pd.get_dummies(df, columns=categorical_cols, drop_first=True,dtype=int)\n",
        "df_encoded.to_csv(\"task_c_hot_encoded.csv\", index=False)\n",
        "\n",
        "# View the new dataframe\n",
        "print(df_encoded.head())"
      ],
      "metadata": {
        "colab": {
          "base_uri": "https://localhost:8080/"
        },
        "id": "06yKad7K4pWb",
        "outputId": "035f6d62-785c-48d6-97b8-70c3d8f48738"
      },
      "execution_count": null,
      "outputs": [
        {
          "output_type": "stream",
          "name": "stdout",
          "text": [
            "   Unnamed: 0  Year  Kilometers_Driven  Mileage  Engine   Power  Seats  Price  \\\n",
            "0           1  2015              41000    19.67  1582.0  126.20    5.0  12.50   \n",
            "1           2  2011              46000    13.00  1199.0   88.70    5.0   4.50   \n",
            "2           3  2012              87000    20.77  1248.0   88.76    7.0   6.00   \n",
            "3           4  2013              40670    15.20  1968.0  140.80    5.0  17.74   \n",
            "4           6  2013              86999    23.08  1461.0   63.10    5.0   3.50   \n",
            "\n",
            "   Name_Audi A3 35 TDI Attraction  Name_Audi A3 35 TDI Premium  ...  \\\n",
            "0                               0                            0  ...   \n",
            "1                               0                            0  ...   \n",
            "2                               0                            0  ...   \n",
            "3                               0                            0  ...   \n",
            "4                               0                            0  ...   \n",
            "\n",
            "   Location_Kochi  Location_Kolkata  Location_Mumbai  Location_Pune  \\\n",
            "0               0                 0                0              1   \n",
            "1               0                 0                0              0   \n",
            "2               0                 0                0              0   \n",
            "3               0                 0                0              0   \n",
            "4               0                 0                0              0   \n",
            "\n",
            "   Fuel_Type_Electric  Fuel_Type_Petrol  Transmission_Manual  \\\n",
            "0                   0                 0                    1   \n",
            "1                   0                 1                    1   \n",
            "2                   0                 0                    1   \n",
            "3                   0                 0                    0   \n",
            "4                   0                 0                    1   \n",
            "\n",
            "   Owner_Type_Fourth & Above  Owner_Type_Second  Owner_Type_Third  \n",
            "0                          0                  0                 0  \n",
            "1                          0                  0                 0  \n",
            "2                          0                  0                 0  \n",
            "3                          0                  1                 0  \n",
            "4                          0                  0                 0  \n",
            "\n",
            "[5 rows x 1827 columns]\n"
          ]
        }
      ]
    },
    {
      "cell_type": "code",
      "source": [
        "from datetime import datetime\n",
        "\n",
        "# Get the current year\n",
        "current_year = datetime.now().year\n",
        "\n",
        "# Create a new 'Age' column\n",
        "df['Age'] = current_year - df['Year']\n",
        "df.to_csv(\"task_d_car_age_column.csv\", index=False)\n",
        "# Check if the 'Age' column was created successfully\n",
        "print(\"Columns after adding 'Age' column:\")\n",
        "print(df.columns)\n",
        "\n",
        "# Display the first few rows to confirm the new 'Age' column\n",
        "print(\"\\nFirst few rows with the 'Age' column:\")\n",
        "print(df.head())"
      ],
      "metadata": {
        "colab": {
          "base_uri": "https://localhost:8080/"
        },
        "id": "kjfPrbXm4uGE",
        "outputId": "fd8d9f4a-0d6e-41b8-df70-f23353fdbe44"
      },
      "execution_count": null,
      "outputs": [
        {
          "output_type": "stream",
          "name": "stdout",
          "text": [
            "Columns after adding 'Age' column:\n",
            "Index(['Unnamed: 0', 'Name', 'Location', 'Year', 'Kilometers_Driven',\n",
            "       'Fuel_Type', 'Transmission', 'Owner_Type', 'Mileage', 'Engine', 'Power',\n",
            "       'Seats', 'Price', 'Age'],\n",
            "      dtype='object')\n",
            "\n",
            "First few rows with the 'Age' column:\n",
            "   Unnamed: 0                              Name    Location  Year  \\\n",
            "0           1  Hyundai Creta 1.6 CRDi SX Option        Pune  2015   \n",
            "1           2                      Honda Jazz V     Chennai  2011   \n",
            "2           3                 Maruti Ertiga VDI     Chennai  2012   \n",
            "3           4   Audi A4 New 2.0 TDI Multitronic  Coimbatore  2013   \n",
            "4           6            Nissan Micra Diesel XV      Jaipur  2013   \n",
            "\n",
            "   Kilometers_Driven Fuel_Type Transmission Owner_Type  Mileage  Engine  \\\n",
            "0              41000    Diesel       Manual      First    19.67  1582.0   \n",
            "1              46000    Petrol       Manual      First    13.00  1199.0   \n",
            "2              87000    Diesel       Manual      First    20.77  1248.0   \n",
            "3              40670    Diesel    Automatic     Second    15.20  1968.0   \n",
            "4              86999    Diesel       Manual      First    23.08  1461.0   \n",
            "\n",
            "    Power  Seats  Price  Age  \n",
            "0  126.20    5.0  12.50   10  \n",
            "1   88.70    5.0   4.50   14  \n",
            "2   88.76    7.0   6.00   13  \n",
            "3  140.80    5.0  17.74   12  \n",
            "4   63.10    5.0   3.50   12  \n"
          ]
        }
      ]
    },
    {
      "cell_type": "code",
      "source": [
        "# Select specific columns\n",
        "selected_columns = df[['Name', 'Year', 'Fuel_Type', 'Price']]\n",
        "print(selected_columns.head())\n",
        "selected_columns.to_csv(\"task_e_selected_columns.csv\", index=False)"
      ],
      "metadata": {
        "colab": {
          "base_uri": "https://localhost:8080/"
        },
        "id": "PO_DJuXJ4vbe",
        "outputId": "cd30a52b-8a26-4829-ffc8-c48e2f3979a9"
      },
      "execution_count": null,
      "outputs": [
        {
          "output_type": "stream",
          "name": "stdout",
          "text": [
            "                               Name  Year Fuel_Type  Price\n",
            "0  Hyundai Creta 1.6 CRDi SX Option  2015    Diesel  12.50\n",
            "1                      Honda Jazz V  2011    Petrol   4.50\n",
            "2                 Maruti Ertiga VDI  2012    Diesel   6.00\n",
            "3   Audi A4 New 2.0 TDI Multitronic  2013    Diesel  17.74\n",
            "4            Nissan Micra Diesel XV  2013    Diesel   3.50\n"
          ]
        }
      ]
    },
    {
      "cell_type": "code",
      "source": [
        "# Filter cars that are more than 5 years old and have a price greater than 5 lakhs\n",
        "filtered_cars = df[(df['Age'] > 5) & (df['Price'] > 5)]\n",
        "print(filtered_cars.head())\n",
        "filtered_cars.to_csv(\"task_e_filtered_cars.csv\", index=False)"
      ],
      "metadata": {
        "colab": {
          "base_uri": "https://localhost:8080/"
        },
        "id": "aekvWX9M4xwL",
        "outputId": "3966002f-933a-45fb-d047-6f6af4c743ff"
      },
      "execution_count": null,
      "outputs": [
        {
          "output_type": "stream",
          "name": "stdout",
          "text": [
            "   Unnamed: 0                                 Name    Location  Year  \\\n",
            "0           1     Hyundai Creta 1.6 CRDi SX Option        Pune  2015   \n",
            "2           3                    Maruti Ertiga VDI     Chennai  2012   \n",
            "3           4      Audi A4 New 2.0 TDI Multitronic  Coimbatore  2013   \n",
            "5           7    Toyota Innova Crysta 2.8 GX AT 8S      Mumbai  2016   \n",
            "6           8  Volkswagen Vento Diesel Comfortline        Pune  2013   \n",
            "\n",
            "   Kilometers_Driven Fuel_Type Transmission Owner_Type  Mileage  Engine  \\\n",
            "0              41000    Diesel       Manual      First    19.67  1582.0   \n",
            "2              87000    Diesel       Manual      First    20.77  1248.0   \n",
            "3              40670    Diesel    Automatic     Second    15.20  1968.0   \n",
            "5              36000    Diesel    Automatic      First    11.36  2755.0   \n",
            "6              64430    Diesel       Manual      First    20.54  1598.0   \n",
            "\n",
            "    Power  Seats  Price  Age  \n",
            "0  126.20    5.0  12.50   10  \n",
            "2   88.76    7.0   6.00   13  \n",
            "3  140.80    5.0  17.74   12  \n",
            "5  171.50    8.0  17.50    9  \n",
            "6  103.60    5.0   5.20   12  \n"
          ]
        }
      ]
    },
    {
      "cell_type": "code",
      "source": [
        "# Rename 'Price' to 'Car_Price' and 'Year' to 'Manufacture_Year'\n",
        "df.rename(columns={'Price': 'Car_Price', 'Year': 'Manufacture_Year'}, inplace=True)\n",
        "print(df.columns)"
      ],
      "metadata": {
        "colab": {
          "base_uri": "https://localhost:8080/"
        },
        "id": "Cc81DH8R43jS",
        "outputId": "92440349-bda2-41d1-dc17-cbef491f6182"
      },
      "execution_count": null,
      "outputs": [
        {
          "output_type": "stream",
          "name": "stdout",
          "text": [
            "Index(['Unnamed: 0', 'Name', 'Location', 'Manufacture_Year',\n",
            "       'Kilometers_Driven', 'Fuel_Type', 'Transmission', 'Owner_Type',\n",
            "       'Mileage', 'Engine', 'Power', 'Seats', 'Car_Price', 'Age'],\n",
            "      dtype='object')\n"
          ]
        }
      ]
    },
    {
      "cell_type": "code",
      "source": [
        "# Mutate (Create a new column) – Calculate price per kilometer driven\n",
        "df['Price_per_Km'] = df['Car_Price'] / df['Kilometers_Driven']\n",
        "print(df[['Name', 'Car_Price', 'Kilometers_Driven', 'Price_per_Km']].head())\n",
        "df[['Name', 'Car_Price', 'Kilometers_Driven', 'Price_per_Km']].to_csv(\"task_e_mutate_price_per_km.csv\", index=False)\n"
      ],
      "metadata": {
        "colab": {
          "base_uri": "https://localhost:8080/"
        },
        "id": "T3JE0jNv465m",
        "outputId": "13449f87-6a4e-4f32-ac00-bd09a8e00394"
      },
      "execution_count": null,
      "outputs": [
        {
          "output_type": "stream",
          "name": "stdout",
          "text": [
            "                               Name  Car_Price  Kilometers_Driven  \\\n",
            "0  Hyundai Creta 1.6 CRDi SX Option      12.50              41000   \n",
            "1                      Honda Jazz V       4.50              46000   \n",
            "2                 Maruti Ertiga VDI       6.00              87000   \n",
            "3   Audi A4 New 2.0 TDI Multitronic      17.74              40670   \n",
            "4            Nissan Micra Diesel XV       3.50              86999   \n",
            "\n",
            "   Price_per_Km  \n",
            "0      0.000305  \n",
            "1      0.000098  \n",
            "2      0.000069  \n",
            "3      0.000436  \n",
            "4      0.000040  \n"
          ]
        }
      ]
    },
    {
      "cell_type": "code",
      "source": [
        "# Arrange (sort) by 'Car_Price' in descending order\n",
        "df_sorted = df.sort_values(by='Car_Price', ascending=False)\n",
        "print(df_sorted[['Name', 'Car_Price']].head())\n",
        "df_sorted[['Name', 'Car_Price']].to_csv(\"task_e_sorted_by_price.csv\", index=False)"
      ],
      "metadata": {
        "colab": {
          "base_uri": "https://localhost:8080/"
        },
        "id": "aT7KX4P84-ZD",
        "outputId": "84c5578a-da1d-4f11-9c15-c27314564b1d"
      },
      "execution_count": null,
      "outputs": [
        {
          "output_type": "stream",
          "name": "stdout",
          "text": [
            "                                             Name  Car_Price\n",
            "3952  Land Rover Range Rover 3.0 Diesel LWB Vogue     160.00\n",
            "5620                   Lamborghini Gallardo Coupe     120.00\n",
            "5752                       Jaguar F Type 5.0 V8 S     100.00\n",
            "1457              Land Rover Range Rover Sport SE      97.07\n",
            "1917                           BMW 7 Series 740Li      93.67\n"
          ]
        }
      ]
    },
    {
      "cell_type": "code",
      "source": [
        "# Group by 'Fuel_Type' and calculate the average price of cars for each fuel type\n",
        "fuel_group_summary = df.groupby('Fuel_Type')['Car_Price'].mean().reset_index()\n",
        "print(fuel_group_summary)\n",
        "fuel_group_summary.to_csv(\"task_e_groupby_fuel_summary.csv\", index=False)"
      ],
      "metadata": {
        "colab": {
          "base_uri": "https://localhost:8080/"
        },
        "id": "rfPWBmgc5BMv",
        "outputId": "34c5bc48-d755-449e-d403-cb40c732adcf"
      },
      "execution_count": null,
      "outputs": [
        {
          "output_type": "stream",
          "name": "stdout",
          "text": [
            "  Fuel_Type  Car_Price\n",
            "0    Diesel  12.960686\n",
            "1  Electric  12.875000\n",
            "2    Petrol   5.756688\n"
          ]
        }
      ]
    },
    {
      "cell_type": "code",
      "source": [
        "# Group by 'Fuel_Type' and 'Transmission' and calculate the average price for each group\n",
        "fuel_trans_group_summary = df.groupby(['Fuel_Type', 'Transmission'])['Car_Price'].mean().reset_index()\n",
        "print(fuel_trans_group_summary)\n",
        "fuel_trans_group_summary.to_csv(\"task_e_groupby_fuel_trans_summary.csv\", index=False)"
      ],
      "metadata": {
        "colab": {
          "base_uri": "https://localhost:8080/"
        },
        "id": "-DdLw7OU5EL3",
        "outputId": "420714da-b24a-49f3-baf1-e80ba176af55"
      },
      "execution_count": null,
      "outputs": [
        {
          "output_type": "stream",
          "name": "stdout",
          "text": [
            "  Fuel_Type Transmission  Car_Price\n",
            "0    Diesel    Automatic  24.618490\n",
            "1    Diesel       Manual   6.686462\n",
            "2  Electric    Automatic  12.875000\n",
            "3    Petrol    Automatic  11.252450\n",
            "4    Petrol       Manual   4.160803\n"
          ]
        }
      ]
    }
  ]
}
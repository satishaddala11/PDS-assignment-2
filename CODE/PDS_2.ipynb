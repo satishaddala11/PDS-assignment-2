{
  "nbformat": 4,
  "nbformat_minor": 0,
  "metadata": {
    "colab": {
      "provenance": []
    },
    "kernelspec": {
      "name": "python3",
      "display_name": "Python 3"
    },
    "language_info": {
      "name": "python"
    }
  },
  "cells": [
    {
      "cell_type": "code",
      "execution_count": null,
      "metadata": {
        "id": "q_xz8ZHdBXQz"
      },
      "outputs": [],
      "source": [
        "import pandas as pd\n",
        "import numpy as np"
      ]
    },
    {
      "cell_type": "code",
      "source": [
        "# loading dataset\n",
        "df = pd.read_csv(\"/train.csv\")"
      ],
      "metadata": {
        "id": "W9rxlkWnBc9k"
      },
      "execution_count": null,
      "outputs": []
    },
    {
      "cell_type": "markdown",
      "source": [
        "# **Question A**"
      ],
      "metadata": {
        "id": "inuASRnOE5ku"
      }
    },
    {
      "cell_type": "code",
      "source": [
        "# removing units and convert to float\n",
        "\n",
        "df['Mileage'] = (\n",
        "    df['Mileage']\n",
        "    .str.extract(r'([\\d\\.]+)')\n",
        "    .astype(float)\n",
        ")\n",
        "\n",
        "\n",
        "df['Engine'] = (\n",
        "    df['Engine']\n",
        "    .str.extract(r'(\\d+)')\n",
        "    .astype(float)\n",
        ")\n",
        "\n",
        "\n",
        "df['Power'] = (\n",
        "    df['Power']\n",
        "    .str.extract(r'([\\d\\.]+)')\n",
        "    .astype(float)\n",
        ")\n",
        "\n",
        "\n",
        "unit_multipliers = {\n",
        "    'lakh':      1,\n",
        "    'lac':       1,\n",
        "    'cr':      100,\n",
        "    'crore':   100,\n",
        "}\n",
        "\n",
        "\n",
        "price_parts = df['New_Price'].str.extract(r'([\\d,\\.]+)\\s*([A-Za-z]+)', expand=True)\n",
        "price_vals  = price_parts[0].str.replace(',', '').astype(float)\n",
        "price_units = price_parts[1].str.lower().map(unit_multipliers).fillna(1)\n",
        "\n",
        "\n",
        "df['New_Price'] = price_vals * price_units\n",
        "\n",
        "\n",
        "\n",
        "\n",
        "df.to_csv(\"task_b_units_removed.csv\", index=False)\n",
        "\n",
        "\n",
        "print(df[['Mileage', 'Engine', 'Power', 'New_Price']].info())\n"
      ],
      "metadata": {
        "colab": {
          "base_uri": "https://localhost:8080/"
        },
        "id": "nVudoOXABoa4",
        "outputId": "709fa760-925b-4722-a440-9cd37a3e34c7"
      },
      "execution_count": null,
      "outputs": [
        {
          "output_type": "stream",
          "name": "stdout",
          "text": [
            "<class 'pandas.core.frame.DataFrame'>\n",
            "RangeIndex: 5847 entries, 0 to 5846\n",
            "Data columns (total 4 columns):\n",
            " #   Column     Non-Null Count  Dtype  \n",
            "---  ------     --------------  -----  \n",
            " 0   Mileage    5845 non-null   float64\n",
            " 1   Engine     5811 non-null   float64\n",
            " 2   Power      5811 non-null   float64\n",
            " 3   New_Price  815 non-null    float64\n",
            "dtypes: float64(4)\n",
            "memory usage: 182.8 KB\n",
            "None\n"
          ]
        }
      ]
    },
    {
      "cell_type": "code",
      "source": [
        "missing_count = df.isna().sum()\n",
        "\n",
        "\n",
        "missing_pct = (missing_count / len(df) * 100).round(2)\n",
        "\n",
        "\n",
        "missing_summary = pd.DataFrame({\n",
        "    'missing_count': missing_count,\n",
        "    'missing_pct':   missing_pct\n",
        "})\n",
        "\n",
        "\n",
        "missing_summary = (\n",
        "    missing_summary[missing_summary['missing_count'] > 0]\n",
        "    .sort_values(by='missing_count', ascending=False)\n",
        ")\n",
        "\n",
        "\n",
        "print(\"Missing Data Summary:\\n\", missing_summary)"
      ],
      "metadata": {
        "colab": {
          "base_uri": "https://localhost:8080/"
        },
        "id": "zFW5tMwzo2Xe",
        "outputId": "9685e709-edea-4902-9d97-871785cb8f24"
      },
      "execution_count": null,
      "outputs": [
        {
          "output_type": "stream",
          "name": "stdout",
          "text": [
            "Missing Data Summary:\n",
            "            missing_count  missing_pct\n",
            "New_Price           5032        86.06\n",
            "Seats                 38         0.65\n",
            "Power                 36         0.62\n",
            "Engine                36         0.62\n",
            "Mileage                2         0.03\n"
          ]
        }
      ]
    },
    {
      "cell_type": "markdown",
      "source": [
        "Justification :To prepare the data for analysis, we first scanned all columns for missing values. For numerical fields, we used the median to fill in the gaps because it's a reliable measure that isn’t easily affected by outliers, making it a safe choice for uneven data. For categorical fields, we filled missing entries using the mode, as it helps maintain consistency by using the most commonly occurring category.\n",
        "\n",
        "This strategy ensured that no valuable data was discarded. Instead of removing rows or columns, we retained the original structure while filling in missing values with meaningful substitutes. After this step, the dataset was complete, balanced, and ready for further processing."
      ],
      "metadata": {
        "id": "e9td3C83A9pe"
      }
    },
    {
      "cell_type": "markdown",
      "source": [
        "# **Question B**"
      ],
      "metadata": {
        "id": "FbN-WiMrFDfs"
      }
    },
    {
      "cell_type": "code",
      "source": [
        "\n",
        "df.drop(columns='New_Price', inplace=True)\n",
        "\n",
        "\n",
        "impute_values = {\n",
        "    'Seats':   df['Seats'].mode()[0],\n",
        "    'Power':   df['Power'].median(),\n",
        "    'Engine':  df['Engine'].median(),\n",
        "    'Mileage': df['Mileage'].median()\n",
        "}\n",
        "\n",
        "\n",
        "df.fillna(value=impute_values, inplace=True)\n",
        "\n",
        "\n",
        "df.to_csv(\"task_a_missing_values.csv\", index=False)"
      ],
      "metadata": {
        "id": "pAZRsEGipGEr"
      },
      "execution_count": null,
      "outputs": []
    },
    {
      "cell_type": "code",
      "source": [
        "\n",
        "\n",
        "\n",
        "total_rows = len(df)\n",
        "missing_count = df.isna().sum()\n",
        "missing_pct   = (missing_count / total_rows * 100).round(2)\n",
        "\n",
        "\n",
        "missing_after = pd.DataFrame({\n",
        "    'missing_count': missing_count,\n",
        "    'missing_pct':   missing_pct\n",
        "})\n",
        "\n",
        "\n",
        "missing_after = missing_after[missing_after['missing_count'] > 0]\n",
        "\n",
        "\n",
        "if missing_after.empty:\n",
        "    print(\" No missing values remain.\")\n",
        "else:\n",
        "    print(\"Missing values still present after imputation:\")\n",
        "    print(missing_after)"
      ],
      "metadata": {
        "colab": {
          "base_uri": "https://localhost:8080/"
        },
        "id": "sH0yIn3ZpJ3p",
        "outputId": "9062c8d7-860d-424d-eba6-4f2084db7299"
      },
      "execution_count": null,
      "outputs": [
        {
          "output_type": "stream",
          "name": "stdout",
          "text": [
            " No missing values remain.\n"
          ]
        }
      ]
    },
    {
      "cell_type": "markdown",
      "source": [
        "# **Question C**"
      ],
      "metadata": {
        "id": "2gD4wVXxFT6P"
      }
    },
    {
      "cell_type": "code",
      "source": [
        "\n",
        "categorical_cols = df.select_dtypes(include='object').columns.tolist()\n",
        "print(\"Categorical columns detected:\", categorical_cols)\n",
        "\n",
        "\n",
        "for col in categorical_cols:\n",
        "\n",
        "    uniques = df[col].dropna().unique()\n",
        "    count = len(uniques)\n",
        "    sample = uniques[:10].tolist()\n",
        "    tail = \" …\" if count > 10 else \"\"\n",
        "    print(f\"\\n• {col} — {count} unique values. Sample: {sample}{tail}\")"
      ],
      "metadata": {
        "colab": {
          "base_uri": "https://localhost:8080/"
        },
        "id": "7Bai9T21pg1c",
        "outputId": "c059b42e-b392-49e5-e7f9-c495b66eaf32"
      },
      "execution_count": null,
      "outputs": [
        {
          "output_type": "stream",
          "name": "stdout",
          "text": [
            "Categorical columns detected: ['Name', 'Location', 'Fuel_Type', 'Transmission', 'Owner_Type']\n",
            "\n",
            "• Name — 1804 unique values. Sample: ['Hyundai Creta 1.6 CRDi SX Option', 'Honda Jazz V', 'Maruti Ertiga VDI', 'Audi A4 New 2.0 TDI Multitronic', 'Nissan Micra Diesel XV', 'Toyota Innova Crysta 2.8 GX AT 8S', 'Volkswagen Vento Diesel Comfortline', 'Tata Indica Vista Quadrajet LS', 'Maruti Ciaz Zeta', 'Honda City 1.5 V AT Sunroof'] …\n",
            "\n",
            "• Location — 11 unique values. Sample: ['Pune', 'Chennai', 'Coimbatore', 'Jaipur', 'Mumbai', 'Kochi', 'Kolkata', 'Delhi', 'Bangalore', 'Hyderabad'] …\n",
            "\n",
            "• Fuel_Type — 3 unique values. Sample: ['Diesel', 'Petrol', 'Electric']\n",
            "\n",
            "• Transmission — 2 unique values. Sample: ['Manual', 'Automatic']\n",
            "\n",
            "• Owner_Type — 4 unique values. Sample: ['First', 'Second', 'Fourth & Above', 'Third']\n"
          ]
        }
      ]
    },
    {
      "cell_type": "code",
      "source": [
        "\n",
        "df_ohe = pd.get_dummies(\n",
        "    df,\n",
        "    columns=categorical_cols,\n",
        "    drop_first=True,\n",
        "    prefix_sep='_',\n",
        "    dtype=int\n",
        ")\n",
        "\n",
        "\n",
        "df_ohe.to_csv(\"task_c_hot_encoded.csv\", index=False)\n",
        "\n",
        "\n",
        "print(f\"Saved 'task_c_hot_encoded.csv' — new shape: {df_ohe.shape}\")\n",
        "print(df_ohe.head())"
      ],
      "metadata": {
        "colab": {
          "base_uri": "https://localhost:8080/"
        },
        "id": "cMUPWDxrpq2E",
        "outputId": "9a80ed9d-770e-4272-8361-26ca2e2c8d08"
      },
      "execution_count": null,
      "outputs": [
        {
          "output_type": "stream",
          "name": "stdout",
          "text": [
            "Saved 'task_c_hot_encoded.csv' — new shape: (5847, 1827)\n",
            "   Unnamed: 0  Year  Kilometers_Driven  Mileage  Engine   Power  Seats  Price  \\\n",
            "0           1  2015              41000    19.67  1582.0  126.20    5.0  12.50   \n",
            "1           2  2011              46000    13.00  1199.0   88.70    5.0   4.50   \n",
            "2           3  2012              87000    20.77  1248.0   88.76    7.0   6.00   \n",
            "3           4  2013              40670    15.20  1968.0  140.80    5.0  17.74   \n",
            "4           6  2013              86999    23.08  1461.0   63.10    5.0   3.50   \n",
            "\n",
            "   Name_Audi A3 35 TDI Attraction  Name_Audi A3 35 TDI Premium  ...  \\\n",
            "0                               0                            0  ...   \n",
            "1                               0                            0  ...   \n",
            "2                               0                            0  ...   \n",
            "3                               0                            0  ...   \n",
            "4                               0                            0  ...   \n",
            "\n",
            "   Location_Kochi  Location_Kolkata  Location_Mumbai  Location_Pune  \\\n",
            "0               0                 0                0              1   \n",
            "1               0                 0                0              0   \n",
            "2               0                 0                0              0   \n",
            "3               0                 0                0              0   \n",
            "4               0                 0                0              0   \n",
            "\n",
            "   Fuel_Type_Electric  Fuel_Type_Petrol  Transmission_Manual  \\\n",
            "0                   0                 0                    1   \n",
            "1                   0                 1                    1   \n",
            "2                   0                 0                    1   \n",
            "3                   0                 0                    0   \n",
            "4                   0                 0                    1   \n",
            "\n",
            "   Owner_Type_Fourth & Above  Owner_Type_Second  Owner_Type_Third  \n",
            "0                          0                  0                 0  \n",
            "1                          0                  0                 0  \n",
            "2                          0                  0                 0  \n",
            "3                          0                  1                 0  \n",
            "4                          0                  0                 0  \n",
            "\n",
            "[5 rows x 1827 columns]\n"
          ]
        }
      ]
    },
    {
      "cell_type": "code",
      "source": [
        "\n",
        "df = df.assign(Age=lambda d: pd.Timestamp.now().year - d['Year'])\n",
        "\n",
        "\n",
        "output_file = \"task_d_car_age_column.csv\"\n",
        "df.to_csv(output_file, index=False)\n",
        "\n",
        "\n",
        "print(f\" Saved {output_file}. Columns now include: {df.columns.tolist()}\")\n",
        "print(\"\\nSample of 'Year' vs. new 'Age':\")\n",
        "print(df[['Year', 'Age']].head())"
      ],
      "metadata": {
        "colab": {
          "base_uri": "https://localhost:8080/"
        },
        "id": "mOiyEix-pwH0",
        "outputId": "551ba92c-8792-43ae-dc76-2824ff4a2ed2"
      },
      "execution_count": null,
      "outputs": [
        {
          "output_type": "stream",
          "name": "stdout",
          "text": [
            " Saved task_d_car_age_column.csv. Columns now include: ['Unnamed: 0', 'Name', 'Location', 'Year', 'Kilometers_Driven', 'Fuel_Type', 'Transmission', 'Owner_Type', 'Mileage', 'Engine', 'Power', 'Seats', 'Price', 'Age']\n",
            "\n",
            "Sample of 'Year' vs. new 'Age':\n",
            "   Year  Age\n",
            "0  2015   10\n",
            "1  2011   14\n",
            "2  2012   13\n",
            "3  2013   12\n",
            "4  2013   12\n"
          ]
        }
      ]
    },
    {
      "cell_type": "code",
      "source": [
        "\n",
        "cols = ['Name', 'Year', 'Fuel_Type', 'Price']\n",
        "\n",
        "\n",
        "subset = df.loc[:, cols]\n",
        "print(\"Preview of selected columns:\")\n",
        "print(subset.head())\n",
        "\n",
        "\n",
        "output_path = \"task_e_selected_columns.csv\"\n",
        "subset.to_csv(output_path, index=False)\n",
        "print(f\"Saved {subset.shape[0]} rows and {subset.shape[1]} columns to '{output_path}'\")"
      ],
      "metadata": {
        "colab": {
          "base_uri": "https://localhost:8080/"
        },
        "id": "qlWmZkwXqQnh",
        "outputId": "95ffd206-e346-4d98-a0b6-8e09f2046972"
      },
      "execution_count": null,
      "outputs": [
        {
          "output_type": "stream",
          "name": "stdout",
          "text": [
            "Preview of selected columns:\n",
            "                               Name  Year Fuel_Type  Price\n",
            "0  Hyundai Creta 1.6 CRDi SX Option  2015    Diesel  12.50\n",
            "1                      Honda Jazz V  2011    Petrol   4.50\n",
            "2                 Maruti Ertiga VDI  2012    Diesel   6.00\n",
            "3   Audi A4 New 2.0 TDI Multitronic  2013    Diesel  17.74\n",
            "4            Nissan Micra Diesel XV  2013    Diesel   3.50\n",
            "Saved 5847 rows and 4 columns to 'task_e_selected_columns.csv'\n"
          ]
        }
      ]
    },
    {
      "cell_type": "code",
      "source": [
        "age_threshold = 5\n",
        "price_threshold = 5\n",
        "\n",
        "\n",
        "filtered_cars = df.query(\"Age > @age_threshold and Price > @price_threshold\")\n",
        "\n",
        "\n",
        "output_file = \"task_e_filtered_cars.csv\"\n",
        "filtered_cars.to_csv(output_file, index=False)\n",
        "\n",
        "\n",
        "print(f\" {len(filtered_cars)} cars found (Age > {age_threshold} & Price > {price_threshold}L).\")\n",
        "print(filtered_cars.head())"
      ],
      "metadata": {
        "colab": {
          "base_uri": "https://localhost:8080/"
        },
        "id": "3Q_sN4L9qccB",
        "outputId": "7c0358ca-d7cf-41b0-aba3-52f94a53f796"
      },
      "execution_count": null,
      "outputs": [
        {
          "output_type": "stream",
          "name": "stdout",
          "text": [
            " 3338 cars found (Age > 5 & Price > 5L).\n",
            "   Unnamed: 0                                 Name    Location  Year  \\\n",
            "0           1     Hyundai Creta 1.6 CRDi SX Option        Pune  2015   \n",
            "2           3                    Maruti Ertiga VDI     Chennai  2012   \n",
            "3           4      Audi A4 New 2.0 TDI Multitronic  Coimbatore  2013   \n",
            "5           7    Toyota Innova Crysta 2.8 GX AT 8S      Mumbai  2016   \n",
            "6           8  Volkswagen Vento Diesel Comfortline        Pune  2013   \n",
            "\n",
            "   Kilometers_Driven Fuel_Type Transmission Owner_Type  Mileage  Engine  \\\n",
            "0              41000    Diesel       Manual      First    19.67  1582.0   \n",
            "2              87000    Diesel       Manual      First    20.77  1248.0   \n",
            "3              40670    Diesel    Automatic     Second    15.20  1968.0   \n",
            "5              36000    Diesel    Automatic      First    11.36  2755.0   \n",
            "6              64430    Diesel       Manual      First    20.54  1598.0   \n",
            "\n",
            "    Power  Seats  Price  Age  \n",
            "0  126.20    5.0  12.50   10  \n",
            "2   88.76    7.0   6.00   13  \n",
            "3  140.80    5.0  17.74   12  \n",
            "5  171.50    8.0  17.50    9  \n",
            "6  103.60    5.0   5.20   12  \n"
          ]
        }
      ]
    },
    {
      "cell_type": "markdown",
      "source": [
        "# **Question D**"
      ],
      "metadata": {
        "id": "yiSgBH-qErhY"
      }
    },
    {
      "cell_type": "code",
      "source": [
        "\n",
        "rename_map = {\n",
        "    'Price': 'Car_Price',\n",
        "    'Year':  'Manufacture_Year'\n",
        "}\n",
        "\n",
        "\n",
        "df.rename(columns=rename_map, inplace=True)\n",
        "\n",
        "\n",
        "print(\"Columns now are:\", df.columns.tolist())\n",
        "\n",
        "\n",
        "print(df.head())"
      ],
      "metadata": {
        "colab": {
          "base_uri": "https://localhost:8080/"
        },
        "id": "qjVPseq9qhjX",
        "outputId": "8a94e070-2eaf-4f60-af8d-d15b543a132c"
      },
      "execution_count": null,
      "outputs": [
        {
          "output_type": "stream",
          "name": "stdout",
          "text": [
            "Columns now are: ['Unnamed: 0', 'Name', 'Location', 'Manufacture_Year', 'Kilometers_Driven', 'Fuel_Type', 'Transmission', 'Owner_Type', 'Mileage', 'Engine', 'Power', 'Seats', 'Car_Price', 'Age']\n",
            "   Unnamed: 0                              Name    Location  Manufacture_Year  \\\n",
            "0           1  Hyundai Creta 1.6 CRDi SX Option        Pune              2015   \n",
            "1           2                      Honda Jazz V     Chennai              2011   \n",
            "2           3                 Maruti Ertiga VDI     Chennai              2012   \n",
            "3           4   Audi A4 New 2.0 TDI Multitronic  Coimbatore              2013   \n",
            "4           6            Nissan Micra Diesel XV      Jaipur              2013   \n",
            "\n",
            "   Kilometers_Driven Fuel_Type Transmission Owner_Type  Mileage  Engine  \\\n",
            "0              41000    Diesel       Manual      First    19.67  1582.0   \n",
            "1              46000    Petrol       Manual      First    13.00  1199.0   \n",
            "2              87000    Diesel       Manual      First    20.77  1248.0   \n",
            "3              40670    Diesel    Automatic     Second    15.20  1968.0   \n",
            "4              86999    Diesel       Manual      First    23.08  1461.0   \n",
            "\n",
            "    Power  Seats  Car_Price  Age  \n",
            "0  126.20    5.0      12.50   10  \n",
            "1   88.70    5.0       4.50   14  \n",
            "2   88.76    7.0       6.00   13  \n",
            "3  140.80    5.0      17.74   12  \n",
            "4   63.10    5.0       3.50   12  \n"
          ]
        }
      ]
    },
    {
      "cell_type": "markdown",
      "source": [
        "# **Question E**"
      ],
      "metadata": {
        "id": "t2xSPtrt9t_D"
      }
    },
    {
      "cell_type": "code",
      "source": [
        "\n",
        "df['Price_per_Km'] = df['Car_Price'] / df['Kilometers_Driven']\n",
        "print(df[['Name', 'Car_Price', 'Kilometers_Driven', 'Price_per_Km']].head())\n",
        "df[['Name', 'Car_Price', 'Kilometers_Driven', 'Price_per_Km']].to_csv(\"task_e_mutate_price_per_km.csv\", index=False)"
      ],
      "metadata": {
        "colab": {
          "base_uri": "https://localhost:8080/"
        },
        "id": "S_DOqA8nqsP8",
        "outputId": "f2cbbaa4-5da8-499d-e11a-ff780e17c67a"
      },
      "execution_count": null,
      "outputs": [
        {
          "output_type": "stream",
          "name": "stdout",
          "text": [
            "                               Name  Car_Price  Kilometers_Driven  \\\n",
            "0  Hyundai Creta 1.6 CRDi SX Option      12.50              41000   \n",
            "1                      Honda Jazz V       4.50              46000   \n",
            "2                 Maruti Ertiga VDI       6.00              87000   \n",
            "3   Audi A4 New 2.0 TDI Multitronic      17.74              40670   \n",
            "4            Nissan Micra Diesel XV       3.50              86999   \n",
            "\n",
            "   Price_per_Km  \n",
            "0      0.000305  \n",
            "1      0.000098  \n",
            "2      0.000069  \n",
            "3      0.000436  \n",
            "4      0.000040  \n"
          ]
        }
      ]
    },
    {
      "cell_type": "code",
      "source": [
        "\n",
        "sorted_by_price = (\n",
        "    df\n",
        "    .sort_values('Car_Price', ascending=False)\n",
        "    .loc[:, ['Name', 'Car_Price']]\n",
        ")\n",
        "\n",
        "\n",
        "print(\"Top 5 cars by price:\")\n",
        "print(sorted_by_price.head())\n",
        "\n",
        "\n",
        "output_path = \"task_e_sorted_by_price.csv\"\n",
        "sorted_by_price.to_csv(output_path, index=False)\n",
        "print(f\" Saved sorted list ({sorted_by_price.shape[0]} rows) to '{output_path}'\")"
      ],
      "metadata": {
        "colab": {
          "base_uri": "https://localhost:8080/"
        },
        "id": "0gpJK5NSqyXj",
        "outputId": "d70bbe47-9e9f-4703-fcad-c8ee527ba5e6"
      },
      "execution_count": null,
      "outputs": [
        {
          "output_type": "stream",
          "name": "stdout",
          "text": [
            "Top 5 cars by price:\n",
            "                                             Name  Car_Price\n",
            "3952  Land Rover Range Rover 3.0 Diesel LWB Vogue     160.00\n",
            "5620                   Lamborghini Gallardo Coupe     120.00\n",
            "5752                       Jaguar F Type 5.0 V8 S     100.00\n",
            "1457              Land Rover Range Rover Sport SE      97.07\n",
            "1917                           BMW 7 Series 740Li      93.67\n",
            " Saved sorted list (5847 rows) to 'task_e_sorted_by_price.csv'\n"
          ]
        }
      ]
    },
    {
      "cell_type": "code",
      "source": [
        "\n",
        "fuel_summary = (\n",
        "    df\n",
        "    .groupby('Fuel_Type', as_index=False)['Car_Price']\n",
        "    .mean()\n",
        "    .rename(columns={'Car_Price': 'Avg_Car_Price'})\n",
        ")\n",
        "\n",
        "\n",
        "print(\"Average Car Price by Fuel Type:\")\n",
        "print(fuel_summary)\n",
        "\n",
        "\n",
        "output_file = \"task_e_groupby_fuel_summary.csv\"\n",
        "fuel_summary.to_csv(output_file, index=False)\n",
        "print(f\" Saved summary ({fuel_summary.shape[0]} rows) to '{output_file}'\")"
      ],
      "metadata": {
        "colab": {
          "base_uri": "https://localhost:8080/"
        },
        "id": "Ibpo8AthrCNF",
        "outputId": "c428c354-f444-4ea4-ab5e-74a1a3cdf06e"
      },
      "execution_count": null,
      "outputs": [
        {
          "output_type": "stream",
          "name": "stdout",
          "text": [
            "Average Car Price by Fuel Type:\n",
            "  Fuel_Type  Avg_Car_Price\n",
            "0    Diesel      12.960686\n",
            "1  Electric      12.875000\n",
            "2    Petrol       5.756688\n",
            " Saved summary (3 rows) to 'task_e_groupby_fuel_summary.csv'\n"
          ]
        }
      ]
    },
    {
      "cell_type": "code",
      "source": [
        "fuel_trans_summary = (\n",
        "    df\n",
        "    .groupby(['Fuel_Type', 'Transmission'], as_index=False)\n",
        "    .agg(Avg_Car_Price=('Car_Price', 'mean'))\n",
        ")\n",
        "\n",
        "\n",
        "print(\"Average Car Price by Fuel Type and Transmission:\")\n",
        "print(fuel_trans_summary)\n",
        "\n",
        "\n",
        "output_file = \"task_e_groupby_fuel_trans_summary.csv\"\n",
        "fuel_trans_summary.to_csv(output_file, index=False)\n",
        "print(f\" Saved {fuel_trans_summary.shape[0]} rows to '{output_file}'\")"
      ],
      "metadata": {
        "colab": {
          "base_uri": "https://localhost:8080/"
        },
        "id": "Wse7h8N0rK6G",
        "outputId": "fb6f2ff4-6c9e-47c4-c0da-aca9668851d7"
      },
      "execution_count": null,
      "outputs": [
        {
          "output_type": "stream",
          "name": "stdout",
          "text": [
            "Average Car Price by Fuel Type and Transmission:\n",
            "  Fuel_Type Transmission  Avg_Car_Price\n",
            "0    Diesel    Automatic      24.618490\n",
            "1    Diesel       Manual       6.686462\n",
            "2  Electric    Automatic      12.875000\n",
            "3    Petrol    Automatic      11.252450\n",
            "4    Petrol       Manual       4.160803\n",
            " Saved 5 rows to 'task_e_groupby_fuel_trans_summary.csv'\n"
          ]
        }
      ]
    }
  ]
}